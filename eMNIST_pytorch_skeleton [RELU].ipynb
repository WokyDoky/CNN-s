{
 "cells": [
  {
   "cell_type": "markdown",
   "metadata": {
    "id": "hejgZ6TnkKMh"
   },
   "source": []
  },
  {
   "cell_type": "markdown",
   "metadata": {
    "id": "za12b8bv1gWr"
   },
   "source": [
    "### Objective :\n",
    "To build a Feed Forward Network for eMNIST Classification in Pytorch in about 5 epochs.\n",
    "\n",
    "### Parameters :\n",
    "1. Number of parameters used in the model ( lower the better)\n",
    "2. Validation data accuracy (higher the better)"
   ]
  },
  {
   "cell_type": "markdown",
   "metadata": {
    "id": "lm2XXzQT3Ub7"
   },
   "source": [
    "**Solution** :"
   ]
  },
  {
   "cell_type": "markdown",
   "metadata": {
    "id": "cPysM75msanM"
   },
   "source": [
    "Importing necessary Libraries"
   ]
  },
  {
   "cell_type": "code",
   "metadata": {
    "id": "rqc5qpRp_fVY",
    "ExecuteTime": {
     "end_time": "2024-11-24T16:26:00.604788Z",
     "start_time": "2024-11-24T16:25:56.544928Z"
    }
   },
   "source": [
    "import torch #You have to use python 3.12 or lower :( \n",
    "from torch import nn\n",
    "import torch.nn.functional as F\n",
    "from torchvision import datasets,transforms\n",
    "from torch import optim"
   ],
   "outputs": [],
   "execution_count": 2
  },
  {
   "cell_type": "markdown",
   "metadata": {
    "id": "s1KvviPisfee"
   },
   "source": [
    "Uploading the train and test data using dataloaders"
   ]
  },
  {
   "cell_type": "code",
   "metadata": {
    "id": "rsTRVnem_gGX",
    "ExecuteTime": {
     "end_time": "2024-11-24T16:26:02.389174Z",
     "start_time": "2024-11-24T16:26:02.231773Z"
    }
   },
   "source": [
    "transform=transforms.Compose([transforms.ToTensor()])\n",
    "\n",
    "trainset = datasets.EMNIST(root='~/.pytorch/eMNIST_data/',  split='letters',  train=True, download=True, transform=transform)\n",
    "testset = datasets.EMNIST(root='~/.pytorch/eMNIST_data/',  split='letters',  train=False, download=True, transform=transform)\n",
    "trainset.targets -= 1 # making sure that the classes are 0 indexed\n",
    "testset.targets -= 1\n",
    "\n",
    "trainloader=torch.utils.data.DataLoader(trainset,batch_size=100,shuffle=True,num_workers=0)\n",
    "\n",
    "testloader=torch.utils.data.DataLoader(testset,batch_size=100,shuffle=True,num_workers=0)"
   ],
   "outputs": [],
   "execution_count": 3
  },
  {
   "cell_type": "markdown",
   "metadata": {
    "id": "AsrQ4Hhh26W_"
   },
   "source": [
    "Defining the Neural Network Architecture"
   ]
  },
  {
   "cell_type": "code",
   "metadata": {
    "id": "zr96eKLL_gIv",
    "ExecuteTime": {
     "end_time": "2024-11-24T16:26:04.662451Z",
     "start_time": "2024-11-24T16:26:04.651580Z"
    }
   },
   "source": [
    "#this is what you would implement\n",
    "\n",
    "class Network(nn.Module):\n",
    "    def __init__(self):\n",
    "        \n",
    "        super().__init__()\n",
    "        feature1 = 40\n",
    "        feature2 = 160\n",
    "        dropout = 0.5\n",
    "        # Convolutional layers\n",
    "        self.conv1 = nn.Sequential(\n",
    "            nn.Conv2d(in_channels=1, out_channels=feature1, kernel_size=5, stride=1, padding='same'),\n",
    "            nn.LeakyReLU(),\n",
    "            nn.MaxPool2d(kernel_size=2),\n",
    "        )\n",
    "        self.conv2 = nn.Sequential(\n",
    "            nn.Conv2d(in_channels=feature1, out_channels=feature2, kernel_size=5, stride=1, padding='same'),\n",
    "            nn.LeakyReLU(),\n",
    "            nn.MaxPool2d(kernel_size=2),\n",
    "        )\n",
    "        self.flattened_size = 49 * feature2\n",
    "        \n",
    "        # Fully connected layers\n",
    "        self.fcon1 = nn.Sequential(\n",
    "            nn.Linear(self.flattened_size, 100), \n",
    "            nn.ReLU()\n",
    "        )\n",
    "        self.fcon2 = nn.Sequential(\n",
    "            nn.Linear(100, 50),\n",
    "            nn.ReLU()\n",
    "        )\n",
    "        self.fcon3 = nn.Sequential(\n",
    "            nn.Linear(50, 50),\n",
    "            nn.ReLU()\n",
    "        )\n",
    "        self.output_layer = nn.Linear(50, 26)\n",
    "\n",
    "        self.dropout = nn.Dropout(p=dropout)\n",
    "\n",
    "\n",
    "    def forward(self, x):\n",
    "\n",
    "        '''\n",
    "        x = F.log_softmax(<last layers's output>, dim=1)\n",
    "        '''\n",
    "        x = self.conv1(x)\n",
    "        x = self.conv2(x)\n",
    "        x = x.view(x.size(0), -1)\n",
    "        x = self.fcon1(x)\n",
    "        x = self.dropout(x)\n",
    "        x = self.fcon2(x)\n",
    "        x = self.dropout(x)\n",
    "        x = self.fcon3(x)\n",
    "        x = self.dropout(x)\n",
    "        x = F.log_softmax(x, dim=1)\n",
    "        return x\n",
    "\n",
    "model=Network()\n",
    "\n",
    "\n",
    "optimizer = optim.Adam(model.parameters(), lr=0.001)\n",
    "\n",
    "\n",
    "\n",
    "\n",
    "criterion=nn.NLLLoss() #negative log likelihood loss"
   ],
   "outputs": [],
   "execution_count": 4
  },
  {
   "metadata": {},
   "cell_type": "markdown",
   "source": [
    "## I was getting an error when training the data, \n",
    "### I asked ChatGPT how to fix it, that's why line 7 is commented out. \n",
    "\n",
    "\"The convolutional layers in your model expect input tensors of a specific shape, typically [batch_size, channels, height, width], but the reshaping step images = images.view(images.shape[0], -1) flattens the images into a 2D tensor of shape [batch_size, num_features].\""
   ]
  },
  {
   "cell_type": "code",
   "metadata": {
    "id": "XWby6Tll_gNZ",
    "ExecuteTime": {
     "end_time": "2024-11-24T16:32:45.791459Z",
     "start_time": "2024-11-24T16:26:08.411720Z"
    }
   },
   "source": [
    "epochs=5\n",
    "train_losses,test_losses=[],[]\n",
    "for e in range(epochs):\n",
    "    running_loss=0\n",
    "    for images,labels in trainloader:\n",
    "        optimizer.zero_grad()\n",
    "        #images=images.view(images.shape[0],-1)\n",
    "        log_ps=model(images)\n",
    "        loss=criterion(log_ps,labels) # a single value for ex 2.33\n",
    "        loss.backward()\n",
    "        optimizer.step()\n",
    "        running_loss += loss.item() * images.shape[0] ## (2.33*64 + 2.22*64 + 2.12*33) / 138\n",
    "\n",
    "    else:\n",
    "        test_loss=0\n",
    "        accuracy=0\n",
    "\n",
    "        with torch.no_grad():\n",
    "            model.eval()\n",
    "            for images,labels in testloader:\n",
    "                log_ps=model(images)\n",
    "                test_loss+=criterion(log_ps,labels) *images.shape[0]\n",
    "                ps=torch.exp(log_ps)\n",
    "                top_p,top_class=ps.topk(1,dim=1)\n",
    "                equals=top_class==labels.view(*top_class.shape)\n",
    "                accuracy+=torch.sum(equals).item()\n",
    "        model.train()\n",
    "        train_losses.append(running_loss/len(trainloader.dataset))\n",
    "        test_losses.append(test_loss.item()/len(testloader.dataset))\n",
    "\n",
    "        print(\"Epoch: {}/{}.. \".format(e+1, epochs),\n",
    "              \"Training Loss: {:.3f}.. \".format(running_loss/len(trainloader.dataset)),\n",
    "              \"Test Loss: {:.3f}.. \".format(test_loss/len(testloader.dataset)),\n",
    "              \"Test Accuracy: {:.3f}\".format(accuracy/len(testloader.dataset)))"
   ],
   "outputs": [
    {
     "name": "stdout",
     "output_type": "stream",
     "text": [
      "Epoch: 1/5..  Training Loss: 3.047..  Test Loss: 1.526..  Test Accuracy: 0.874\n",
      "Epoch: 2/5..  Training Loss: 2.624..  Test Loss: 1.264..  Test Accuracy: 0.902\n",
      "Epoch: 3/5..  Training Loss: 2.506..  Test Loss: 1.115..  Test Accuracy: 0.914\n",
      "Epoch: 4/5..  Training Loss: 2.442..  Test Loss: 1.009..  Test Accuracy: 0.919\n",
      "Epoch: 5/5..  Training Loss: 2.391..  Test Loss: 0.905..  Test Accuracy: 0.926\n"
     ]
    }
   ],
   "execution_count": 5
  },
  {
   "cell_type": "markdown",
   "metadata": {
    "id": "JfIXeXhtzROC"
   },
   "source": [
    "Calculating the total number of parameters"
   ]
  },
  {
   "cell_type": "code",
   "metadata": {
    "colab": {
     "base_uri": "https://localhost:8080/"
    },
    "id": "MBhXhQyPSJSk",
    "outputId": "df7cb98a-23c6-45fa-872b-00adc7234c41",
    "ExecuteTime": {
     "end_time": "2024-11-24T16:44:44.831864Z",
     "start_time": "2024-11-24T16:44:44.821409Z"
    }
   },
   "source": [
    "print(\"Our model: \\n\\n\", model, '\\n')\n",
    "\n",
    "pytorch_total_params = sum(p.numel() for p in model.parameters())\n",
    "pytorch_total_params"
   ],
   "outputs": [
    {
     "name": "stdout",
     "output_type": "stream",
     "text": [
      "Our model: \n",
      "\n",
      " Network(\n",
      "  (conv1): Sequential(\n",
      "    (0): Conv2d(1, 40, kernel_size=(5, 5), stride=(1, 1), padding=same)\n",
      "    (1): LeakyReLU(negative_slope=0.01)\n",
      "    (2): MaxPool2d(kernel_size=2, stride=2, padding=0, dilation=1, ceil_mode=False)\n",
      "  )\n",
      "  (conv2): Sequential(\n",
      "    (0): Conv2d(40, 160, kernel_size=(5, 5), stride=(1, 1), padding=same)\n",
      "    (1): LeakyReLU(negative_slope=0.01)\n",
      "    (2): MaxPool2d(kernel_size=2, stride=2, padding=0, dilation=1, ceil_mode=False)\n",
      "  )\n",
      "  (fcon1): Sequential(\n",
      "    (0): Linear(in_features=7840, out_features=100, bias=True)\n",
      "    (1): ReLU()\n",
      "  )\n",
      "  (fcon2): Sequential(\n",
      "    (0): Linear(in_features=100, out_features=50, bias=True)\n",
      "    (1): ReLU()\n",
      "  )\n",
      "  (fcon3): Sequential(\n",
      "    (0): Linear(in_features=50, out_features=50, bias=True)\n",
      "    (1): ReLU()\n",
      "  )\n",
      "  (output_layer): Linear(in_features=50, out_features=26, bias=True)\n",
      "  (dropout): Dropout(p=0.5, inplace=False)\n",
      ") \n",
      "\n"
     ]
    },
    {
     "data": {
      "text/plain": [
       "954226"
      ]
     },
     "execution_count": 6,
     "metadata": {},
     "output_type": "execute_result"
    }
   ],
   "execution_count": 6
  }
 ],
 "metadata": {
  "colab": {
   "provenance": []
  },
  "kernelspec": {
   "display_name": "Python 3 (ipykernel)",
   "name": "python3",
   "language": "python"
  },
  "language_info": {
   "codemirror_mode": {
    "name": "ipython",
    "version": 3
   },
   "file_extension": ".py",
   "mimetype": "text/x-python",
   "name": "python",
   "nbconvert_exporter": "python",
   "pygments_lexer": "ipython3",
   "version": "3.13.0"
  }
 },
 "nbformat": 4,
 "nbformat_minor": 0
}
