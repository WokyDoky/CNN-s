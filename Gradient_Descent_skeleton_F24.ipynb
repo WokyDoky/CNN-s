{
 "cells": [
  {
   "cell_type": "code",
   "metadata": {
    "id": "xhmIOLiZELV_",
    "ExecuteTime": {
     "end_time": "2024-11-24T03:16:12.479161Z",
     "start_time": "2024-11-24T03:16:12.477029Z"
    }
   },
   "source": [
    "# import libraries\n",
    "import numpy as np\n",
    "import matplotlib.pyplot as plt\n",
    "from matplotlib import cm\n",
    "from matplotlib.colors import ListedColormap"
   ],
   "outputs": [],
   "execution_count": 182
  },
  {
   "cell_type": "code",
   "metadata": {
    "id": "4cRkrh9MZ58Z",
    "ExecuteTime": {
     "end_time": "2024-11-24T03:16:12.493279Z",
     "start_time": "2024-11-24T03:16:12.490557Z"
    }
   },
   "source": [
    "# Let's create our training data 12 pairs {x_i, y_i}\n",
    "# We'll try to fit a curved line to these data\n",
    "data = np.array([[0.21,0.22,0.34,0.46,0.68,0.91,1.34,1.18,1.39,1.60,1.65,1.90],\n",
    "                 [0.33,0.82,1.05,1.00,1.20,1.50,1.30,1.54,1.25,1.68,1.73,1.60]])"
   ],
   "outputs": [],
   "execution_count": 183
  },
  {
   "cell_type": "code",
   "metadata": {
    "id": "WQUERmb2erAe",
    "ExecuteTime": {
     "end_time": "2024-11-24T03:16:12.500241Z",
     "start_time": "2024-11-24T03:16:12.498452Z"
    }
   },
   "source": [
    "# Let's define our model\n",
    "def model(phi,x):\n",
    "  y_pred = phi[0]+phi[1] * x + phi[2]*x*x + phi[3]*x*x*x*x\n",
    "  return y_pred"
   ],
   "outputs": [],
   "execution_count": 184
  },
  {
   "cell_type": "code",
   "metadata": {
    "id": "TXx1Tpd1Tl-I",
    "ExecuteTime": {
     "end_time": "2024-11-24T03:16:12.506552Z",
     "start_time": "2024-11-24T03:16:12.504835Z"
    }
   },
   "source": [
    "# Initialize the parameters to some arbitrary values\n",
    "phi = np.zeros((4,1))\n",
    "phi[0] = 0.7\n",
    "phi[1] = 0.4\n",
    "phi[2] = 0.3\n",
    "phi[3] = 0.05\n",
    "\n"
   ],
   "outputs": [],
   "execution_count": 185
  },
  {
   "metadata": {
    "ExecuteTime": {
     "end_time": "2024-11-24T03:16:12.513104Z",
     "start_time": "2024-11-24T03:16:12.511234Z"
    }
   },
   "cell_type": "code",
   "source": [
    "#define MSE loss:\n",
    "def compute_loss(data_x, data_y, phi):\n",
    "\n",
    "  error = 0\n",
    "  for i in range(data_x.shape[0]):\n",
    "    y_p = model(phi,data_x[i])\n",
    "    #print('y_p is {} y_true is {}'.format(y_p,data_y[i]))\n",
    "    error += (y_p - data_y[i])**2\n",
    "\n",
    "  loss = (error)/data_x.shape[0]\n",
    "  return loss"
   ],
   "outputs": [],
   "execution_count": 186
  },
  {
   "metadata": {
    "ExecuteTime": {
     "end_time": "2024-11-24T03:16:12.520371Z",
     "start_time": "2024-11-24T03:16:12.518156Z"
    }
   },
   "cell_type": "code",
   "source": [
    "loss = compute_loss(data[0,:],data[1,:],phi)\n",
    "print('Your loss = %3.3f'%(loss).item())\n",
    "#Add .item() to stop the warnign!!!"
   ],
   "outputs": [
    {
     "name": "stdout",
     "output_type": "stream",
     "text": [
      "Your loss = 0.424\n"
     ]
    }
   ],
   "execution_count": 187
  },
  {
   "metadata": {
    "ExecuteTime": {
     "end_time": "2024-11-24T03:16:12.545623Z",
     "start_time": "2024-11-24T03:16:12.542493Z"
    }
   },
   "cell_type": "code",
   "source": [
    "#you will update the parameters with the help of the computed gradients and check if the new loss is lower than your old loss.\n",
    "def change_in_loss(data_x, data_y, gradients, phi, lr=0.01):\n",
    "\n",
    "    old_loss = compute_loss(data_x, data_y, phi)\n",
    "    new_phi = phi - lr * gradients\n",
    "    new_loss = compute_loss(data_x, data_y, new_phi)\n",
    "    print('Difference between old loss {} and new loss {}'.format(old_loss, new_loss))\n",
    "    \n",
    "    return new_phi\n",
    "\n",
    "def compute_gradient(data_x, data_y, phi,d=0.0001):\n",
    "\n",
    "    gradients = np.zeros_like(phi)\n",
    "    base_loss = compute_loss(data_x, data_y, phi)\n",
    "    \n",
    "    # Iterate over each parameter to compute its gradient\n",
    "    phi_perturbed = phi.copy()\n",
    "    for i in range(len(phi)):\n",
    "        phi_perturbed[i] += d\n",
    "        perturbed_loss = compute_loss(data_x, data_y, phi_perturbed)\n",
    "\n",
    "        gradients[i] = (perturbed_loss - base_loss) / d\n",
    "    \n",
    "    return gradients"
   ],
   "outputs": [],
   "execution_count": 188
  },
  {
   "cell_type": "markdown",
   "metadata": {
    "id": "RS1nEcYVuEAM"
   },
   "source": [
    "We can check the gradient using a trick known as **finite differences**.  If we evaluate the function and then change one of the parameters by a very small amount and normalize by that amount, we get an approximation to the gradient, so:\n",
    "\n",
    "\\begin{eqnarray}\n",
    "\\frac{\\partial L}{\\partial \\phi_{0}}&\\approx & \\frac{L[\\phi_0+\\delta, \\phi_1, \\phi_2, \\phi_3]-L[\\phi_0, \\phi_1, \\phi_2, \\phi_3]}{\\delta}\\\\\n",
    "\\frac{\\partial L}{\\partial \\phi_{1}}&\\approx & \\frac{L[\\phi_0, \\phi_1+\\delta, \\phi_2, \\phi_3]-L[\\phi_0, \\phi_1, \\phi_2, \\phi_3]}{\\delta}\\\\\n",
    "\\frac{\\partial L}{\\partial \\phi_{2}}&\\approx & \\frac{L[\\phi_0, \\phi_1, \\phi_2 + \\delta, \\phi_3]-L[\\phi_0, \\phi_1, \\phi_2, \\phi_3]}{\\delta}\\\\\n",
    "\\frac{\\partial L}{\\partial \\phi_{3}}&\\approx & \\frac{L[\\phi_0, \\phi_1, \\phi_2, \\phi_3 + \\delta]-L[\\phi_0, \\phi_1, \\phi_2]}{\\delta}\n",
    "\\end{eqnarray}\n",
    "\n"
   ]
  },
  {
   "metadata": {
    "ExecuteTime": {
     "end_time": "2024-11-24T03:16:12.555326Z",
     "start_time": "2024-11-24T03:16:12.551075Z"
    }
   },
   "cell_type": "code",
   "source": [
    "# Compute the gradient using your function\n",
    "\n",
    "gradients = compute_gradient(data[0,:],data[1,:], phi)\n",
    "change_in_loss = change_in_loss(data[0,:],data[1,:],gradients,phi)"
   ],
   "outputs": [
    {
     "name": "stdout",
     "output_type": "stream",
     "text": [
      "Difference between old loss [0.42391437] and new loss [0.0419479]\n"
     ]
    }
   ],
   "execution_count": 189
  },
  {
   "metadata": {
    "ExecuteTime": {
     "end_time": "2024-11-24T03:16:12.578838Z",
     "start_time": "2024-11-24T03:16:12.576235Z"
    }
   },
   "cell_type": "code",
   "source": "print(gradients)",
   "outputs": [
    {
     "name": "stdout",
     "output_type": "stream",
     "text": [
      "[[ 0.78537052]\n",
      " [ 2.03630024]\n",
      " [ 4.13386594]\n",
      " [10.28687127]]\n"
     ]
    }
   ],
   "execution_count": 190
  },
  {
   "metadata": {
    "ExecuteTime": {
     "end_time": "2024-11-24T03:16:12.596213Z",
     "start_time": "2024-11-24T03:16:12.593412Z"
    }
   },
   "cell_type": "code",
   "source": "print(change_in_loss)",
   "outputs": [
    {
     "name": "stdout",
     "output_type": "stream",
     "text": [
      "[[ 0.69214629]\n",
      " [ 0.379637  ]\n",
      " [ 0.25866134]\n",
      " [-0.05286871]]\n"
     ]
    }
   ],
   "execution_count": 191
  }
 ],
 "metadata": {
  "colab": {
   "provenance": []
  },
  "kernelspec": {
   "display_name": "Python 3",
   "language": "python",
   "name": "python3"
  },
  "language_info": {
   "codemirror_mode": {
    "name": "ipython",
    "version": 3
   },
   "file_extension": ".py",
   "mimetype": "text/x-python",
   "name": "python",
   "nbconvert_exporter": "python",
   "pygments_lexer": "ipython3",
   "version": "3.13.0"
  }
 },
 "nbformat": 4,
 "nbformat_minor": 0
}
